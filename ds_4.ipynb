{
  "nbformat": 4,
  "nbformat_minor": 5,
  "metadata": {
    "kernelspec": {
      "display_name": "Python 3",
      "language": "python",
      "name": "python3"
    },
    "language_info": {
      "codemirror_mode": {
        "name": "ipython",
        "version": 3
      },
      "file_extension": ".py",
      "mimetype": "text/x-python",
      "name": "python",
      "nbconvert_exporter": "python",
      "pygments_lexer": "ipython3",
      "version": "3.8.5"
    },
    "colab": {
      "name": "ds_4.ipynb",
      "provenance": [],
      "include_colab_link": true
    }
  },
  "cells": [
    {
      "cell_type": "markdown",
      "metadata": {
        "id": "view-in-github",
        "colab_type": "text"
      },
      "source": [
        "<a href=\"https://colab.research.google.com/github/GezhinOleg/Num_Pnd_L4/blob/main/ds_4.ipynb\" target=\"_parent\"><img src=\"https://colab.research.google.com/assets/colab-badge.svg\" alt=\"Open In Colab\"/></a>"
      ]
    },
    {
      "cell_type": "markdown",
      "metadata": {
        "id": "proprietary-tackle"
      },
      "source": [
        "# Домашнее задание\n",
        "\n",
        "## Задание 1\n",
        "\n",
        "Для датафрейма log из материалов занятия создайте столбец source_type по следующим правилам:\n",
        "\n",
        "    если источник traffic_source равен yandex или google, то в source_type ставится organic\n",
        "    для источников paid и email из России - ставим ad\n",
        "    для источников paid и email не из России - ставим other\n",
        "    все остальные варианты берем из traffic_source без изменений"
      ],
      "id": "proprietary-tackle"
    },
    {
      "cell_type": "code",
      "metadata": {
        "id": "dense-crest"
      },
      "source": [
        "import pandas as pd"
      ],
      "id": "dense-crest",
      "execution_count": null,
      "outputs": []
    },
    {
      "cell_type": "code",
      "metadata": {
        "id": "tender-permit"
      },
      "source": [
        "log = pd.read_csv('datas/visit_log.csv', sep=';')"
      ],
      "id": "tender-permit",
      "execution_count": null,
      "outputs": []
    },
    {
      "cell_type": "code",
      "metadata": {
        "scrolled": true,
        "id": "narrative-intelligence",
        "outputId": "3b3b66a6-dd3e-4e3a-92e7-c8adb58cae73"
      },
      "source": [
        "log.loc[log['traffic_source'].isin(['yandex', 'google']), 'source_type'] = 'organic'\n",
        "log.loc[log['traffic_source'].isin(['paid', 'email']) & (log.region == 'Russia'), 'source_type'] = 'ad'\n",
        "log.loc[log['traffic_source'].isin(['paid', 'email']) & (log.region != 'Russia'), 'source_type'] = 'other'\n",
        "log.loc[log.source_type.isnull(), 'source_type']=log['traffic_source']\n",
        "log.head(10)"
      ],
      "id": "narrative-intelligence",
      "execution_count": null,
      "outputs": [
        {
          "output_type": "execute_result",
          "data": {
            "text/html": [
              "<div>\n",
              "<style scoped>\n",
              "    .dataframe tbody tr th:only-of-type {\n",
              "        vertical-align: middle;\n",
              "    }\n",
              "\n",
              "    .dataframe tbody tr th {\n",
              "        vertical-align: top;\n",
              "    }\n",
              "\n",
              "    .dataframe thead th {\n",
              "        text-align: right;\n",
              "    }\n",
              "</style>\n",
              "<table border=\"1\" class=\"dataframe\">\n",
              "  <thead>\n",
              "    <tr style=\"text-align: right;\">\n",
              "      <th></th>\n",
              "      <th>timestamp</th>\n",
              "      <th>visit_id</th>\n",
              "      <th>url</th>\n",
              "      <th>region</th>\n",
              "      <th>user_id</th>\n",
              "      <th>traffic_source</th>\n",
              "      <th>source_type</th>\n",
              "    </tr>\n",
              "  </thead>\n",
              "  <tbody>\n",
              "    <tr>\n",
              "      <th>0</th>\n",
              "      <td>1549980692</td>\n",
              "      <td>e3b0c44298</td>\n",
              "      <td>https://host.ru/3c19b4ef7371864fa3</td>\n",
              "      <td>Russia</td>\n",
              "      <td>b1613cc09f</td>\n",
              "      <td>yandex</td>\n",
              "      <td>organic</td>\n",
              "    </tr>\n",
              "    <tr>\n",
              "      <th>1</th>\n",
              "      <td>1549980704</td>\n",
              "      <td>6e340b9cff</td>\n",
              "      <td>https://host.ru/c8d9213a31839f9a3a</td>\n",
              "      <td>Russia</td>\n",
              "      <td>4c3ec14bee</td>\n",
              "      <td>direct</td>\n",
              "      <td>direct</td>\n",
              "    </tr>\n",
              "    <tr>\n",
              "      <th>2</th>\n",
              "      <td>1549980715</td>\n",
              "      <td>96a296d224</td>\n",
              "      <td>https://host.ru/b8b58337d272ee7b15</td>\n",
              "      <td>Russia</td>\n",
              "      <td>a8c40697fb</td>\n",
              "      <td>yandex</td>\n",
              "      <td>organic</td>\n",
              "    </tr>\n",
              "    <tr>\n",
              "      <th>3</th>\n",
              "      <td>1549980725</td>\n",
              "      <td>709e80c884</td>\n",
              "      <td>https://host.ru/b8b58337d272ee7b15</td>\n",
              "      <td>Russia</td>\n",
              "      <td>521ac1d6a0</td>\n",
              "      <td>yandex</td>\n",
              "      <td>organic</td>\n",
              "    </tr>\n",
              "    <tr>\n",
              "      <th>4</th>\n",
              "      <td>1549980736</td>\n",
              "      <td>df3f619804</td>\n",
              "      <td>https://host.ru/b8b58337d272ee7b15</td>\n",
              "      <td>Russia</td>\n",
              "      <td>d7323c571c</td>\n",
              "      <td>yandex</td>\n",
              "      <td>organic</td>\n",
              "    </tr>\n",
              "    <tr>\n",
              "      <th>5</th>\n",
              "      <td>1549980742</td>\n",
              "      <td>8855508aad</td>\n",
              "      <td>https://host.ru/df646c3676cc259fa0</td>\n",
              "      <td>Russia</td>\n",
              "      <td>fc43898e47</td>\n",
              "      <td>yandex</td>\n",
              "      <td>organic</td>\n",
              "    </tr>\n",
              "    <tr>\n",
              "      <th>6</th>\n",
              "      <td>1549980742</td>\n",
              "      <td>b0f66adc83</td>\n",
              "      <td>https://host.ru/b8b58337d272ee7b15</td>\n",
              "      <td>Russia</td>\n",
              "      <td>13fc55e781</td>\n",
              "      <td>paid</td>\n",
              "      <td>ad</td>\n",
              "    </tr>\n",
              "    <tr>\n",
              "      <th>7</th>\n",
              "      <td>1549980754</td>\n",
              "      <td>837885c8f8</td>\n",
              "      <td>https://host.ru/108ce4b365afb7b88e</td>\n",
              "      <td>Russia</td>\n",
              "      <td>cb5082b6f6</td>\n",
              "      <td>direct</td>\n",
              "      <td>direct</td>\n",
              "    </tr>\n",
              "    <tr>\n",
              "      <th>8</th>\n",
              "      <td>1549980760</td>\n",
              "      <td>af5570f5a1</td>\n",
              "      <td>https://host.ru/3004a8273caeef2867</td>\n",
              "      <td>China</td>\n",
              "      <td>45664f7af2</td>\n",
              "      <td>direct</td>\n",
              "      <td>direct</td>\n",
              "    </tr>\n",
              "    <tr>\n",
              "      <th>9</th>\n",
              "      <td>1549980765</td>\n",
              "      <td>3e7077fd2f</td>\n",
              "      <td>https://host.ru/df646c3676cc259fa0</td>\n",
              "      <td>Russia</td>\n",
              "      <td>6f9de8c8b6</td>\n",
              "      <td>email</td>\n",
              "      <td>ad</td>\n",
              "    </tr>\n",
              "  </tbody>\n",
              "</table>\n",
              "</div>"
            ],
            "text/plain": [
              "    timestamp    visit_id                                 url  region  \\\n",
              "0  1549980692  e3b0c44298  https://host.ru/3c19b4ef7371864fa3  Russia   \n",
              "1  1549980704  6e340b9cff  https://host.ru/c8d9213a31839f9a3a  Russia   \n",
              "2  1549980715  96a296d224  https://host.ru/b8b58337d272ee7b15  Russia   \n",
              "3  1549980725  709e80c884  https://host.ru/b8b58337d272ee7b15  Russia   \n",
              "4  1549980736  df3f619804  https://host.ru/b8b58337d272ee7b15  Russia   \n",
              "5  1549980742  8855508aad  https://host.ru/df646c3676cc259fa0  Russia   \n",
              "6  1549980742  b0f66adc83  https://host.ru/b8b58337d272ee7b15  Russia   \n",
              "7  1549980754  837885c8f8  https://host.ru/108ce4b365afb7b88e  Russia   \n",
              "8  1549980760  af5570f5a1  https://host.ru/3004a8273caeef2867   China   \n",
              "9  1549980765  3e7077fd2f  https://host.ru/df646c3676cc259fa0  Russia   \n",
              "\n",
              "      user_id traffic_source source_type  \n",
              "0  b1613cc09f         yandex     organic  \n",
              "1  4c3ec14bee         direct      direct  \n",
              "2  a8c40697fb         yandex     organic  \n",
              "3  521ac1d6a0         yandex     organic  \n",
              "4  d7323c571c         yandex     organic  \n",
              "5  fc43898e47         yandex     organic  \n",
              "6  13fc55e781           paid          ad  \n",
              "7  cb5082b6f6         direct      direct  \n",
              "8  45664f7af2         direct      direct  \n",
              "9  6f9de8c8b6          email          ad  "
            ]
          },
          "metadata": {
            "tags": []
          },
          "execution_count": 54
        }
      ]
    },
    {
      "cell_type": "markdown",
      "metadata": {
        "id": "touched-album"
      },
      "source": [
        "## Задание 2\n",
        "\n",
        "В файле URLs.txt содержатся url страниц новостного сайта. Вам необходимо отфильтровать его по адресам страниц с текстами новостей. Известно, что шаблон страницы новостей имеет внутри url следующую конструкцию: /, затем 8 цифр, затем дефис. Выполните следующие действия:\n",
        "\n",
        "    Прочитайте содержимое файла с датафрейм\n",
        "    Отфильтруйте страницы с текстом новостей, используя метод str.contains и регулярное выражение в соответствии с заданным шаблоном"
      ],
      "id": "touched-album"
    },
    {
      "cell_type": "code",
      "metadata": {
        "id": "statewide-ivory"
      },
      "source": [
        "import pandas as pd\n",
        "import re"
      ],
      "id": "statewide-ivory",
      "execution_count": null,
      "outputs": []
    },
    {
      "cell_type": "code",
      "metadata": {
        "id": "stupid-yacht",
        "outputId": "52f400ec-54a1-453e-a35a-c629cb084473"
      },
      "source": [
        "urls = pd.read_csv('datas/URLs.txt')\n",
        "urls.head()"
      ],
      "id": "stupid-yacht",
      "execution_count": null,
      "outputs": [
        {
          "output_type": "execute_result",
          "data": {
            "text/html": [
              "<div>\n",
              "<style scoped>\n",
              "    .dataframe tbody tr th:only-of-type {\n",
              "        vertical-align: middle;\n",
              "    }\n",
              "\n",
              "    .dataframe tbody tr th {\n",
              "        vertical-align: top;\n",
              "    }\n",
              "\n",
              "    .dataframe thead th {\n",
              "        text-align: right;\n",
              "    }\n",
              "</style>\n",
              "<table border=\"1\" class=\"dataframe\">\n",
              "  <thead>\n",
              "    <tr style=\"text-align: right;\">\n",
              "      <th></th>\n",
              "      <th>url</th>\n",
              "    </tr>\n",
              "  </thead>\n",
              "  <tbody>\n",
              "    <tr>\n",
              "      <th>0</th>\n",
              "      <td>/world/</td>\n",
              "    </tr>\n",
              "    <tr>\n",
              "      <th>1</th>\n",
              "      <td>/latest/</td>\n",
              "    </tr>\n",
              "    <tr>\n",
              "      <th>2</th>\n",
              "      <td>/?updated=top</td>\n",
              "    </tr>\n",
              "    <tr>\n",
              "      <th>3</th>\n",
              "      <td>/politics/36188461-s-marta-zhizn-rossiyan-susc...</td>\n",
              "    </tr>\n",
              "    <tr>\n",
              "      <th>4</th>\n",
              "      <td>/world/36007585-tramp-pridumal-kak-reshit-ukra...</td>\n",
              "    </tr>\n",
              "  </tbody>\n",
              "</table>\n",
              "</div>"
            ],
            "text/plain": [
              "                                                 url\n",
              "0                                            /world/\n",
              "1                                           /latest/\n",
              "2                                      /?updated=top\n",
              "3  /politics/36188461-s-marta-zhizn-rossiyan-susc...\n",
              "4  /world/36007585-tramp-pridumal-kak-reshit-ukra..."
            ]
          },
          "metadata": {
            "tags": []
          },
          "execution_count": 60
        }
      ]
    },
    {
      "cell_type": "code",
      "metadata": {
        "id": "neutral-worst",
        "outputId": "669ca1b3-f05b-48d7-c576-5947e2346acc"
      },
      "source": [
        "urls[urls.url.str.contains('/[0-9]{8}-', regex = True)].head()"
      ],
      "id": "neutral-worst",
      "execution_count": null,
      "outputs": [
        {
          "output_type": "execute_result",
          "data": {
            "text/html": [
              "<div>\n",
              "<style scoped>\n",
              "    .dataframe tbody tr th:only-of-type {\n",
              "        vertical-align: middle;\n",
              "    }\n",
              "\n",
              "    .dataframe tbody tr th {\n",
              "        vertical-align: top;\n",
              "    }\n",
              "\n",
              "    .dataframe thead th {\n",
              "        text-align: right;\n",
              "    }\n",
              "</style>\n",
              "<table border=\"1\" class=\"dataframe\">\n",
              "  <thead>\n",
              "    <tr style=\"text-align: right;\">\n",
              "      <th></th>\n",
              "      <th>url</th>\n",
              "    </tr>\n",
              "  </thead>\n",
              "  <tbody>\n",
              "    <tr>\n",
              "      <th>3</th>\n",
              "      <td>/politics/36188461-s-marta-zhizn-rossiyan-susc...</td>\n",
              "    </tr>\n",
              "    <tr>\n",
              "      <th>4</th>\n",
              "      <td>/world/36007585-tramp-pridumal-kak-reshit-ukra...</td>\n",
              "    </tr>\n",
              "    <tr>\n",
              "      <th>5</th>\n",
              "      <td>/science/36157853-nasa-sobiraet-ekstrennuyu-pr...</td>\n",
              "    </tr>\n",
              "    <tr>\n",
              "      <th>6</th>\n",
              "      <td>/video/36001498-poyavilis-pervye-podrobnosti-g...</td>\n",
              "    </tr>\n",
              "    <tr>\n",
              "      <th>7</th>\n",
              "      <td>/world/36007585-tramp-pridumal-kak-reshit-ukra...</td>\n",
              "    </tr>\n",
              "  </tbody>\n",
              "</table>\n",
              "</div>"
            ],
            "text/plain": [
              "                                                 url\n",
              "3  /politics/36188461-s-marta-zhizn-rossiyan-susc...\n",
              "4  /world/36007585-tramp-pridumal-kak-reshit-ukra...\n",
              "5  /science/36157853-nasa-sobiraet-ekstrennuyu-pr...\n",
              "6  /video/36001498-poyavilis-pervye-podrobnosti-g...\n",
              "7  /world/36007585-tramp-pridumal-kak-reshit-ukra..."
            ]
          },
          "metadata": {
            "tags": []
          },
          "execution_count": 61
        }
      ]
    },
    {
      "cell_type": "markdown",
      "metadata": {
        "id": "naval-luxury"
      },
      "source": [
        "## Задание 3\n",
        "\n",
        "    Используйте файл с оценками фильмов ml-latest-small/ratings.csv. Посчитайте среднее время жизни пользователей, которые выставили более 100 оценок. Под временем жизни понимается разница между максимальным и минимальным значением столбца timestamp для данного значения userId."
      ],
      "id": "naval-luxury"
    },
    {
      "cell_type": "code",
      "metadata": {
        "id": "hydraulic-canvas"
      },
      "source": [
        "ratings = pd.read_csv('ml-latest-small/ratings.csv')\n",
        "rating_count = ratings.groupby('userId').count().reset_index()\n",
        "rating_count = rating_count[['userId', 'rating']]"
      ],
      "id": "hydraulic-canvas",
      "execution_count": null,
      "outputs": []
    },
    {
      "cell_type": "code",
      "metadata": {
        "id": "enormous-combat",
        "outputId": "9a6a91eb-256e-4518-effc-2d5ac48c1446"
      },
      "source": [
        "count_rating_100 = rating_count[rating_count['rating']>100]\n",
        "count_rating_100.head()"
      ],
      "id": "enormous-combat",
      "execution_count": null,
      "outputs": [
        {
          "output_type": "execute_result",
          "data": {
            "text/html": [
              "<div>\n",
              "<style scoped>\n",
              "    .dataframe tbody tr th:only-of-type {\n",
              "        vertical-align: middle;\n",
              "    }\n",
              "\n",
              "    .dataframe tbody tr th {\n",
              "        vertical-align: top;\n",
              "    }\n",
              "\n",
              "    .dataframe thead th {\n",
              "        text-align: right;\n",
              "    }\n",
              "</style>\n",
              "<table border=\"1\" class=\"dataframe\">\n",
              "  <thead>\n",
              "    <tr style=\"text-align: right;\">\n",
              "      <th></th>\n",
              "      <th>userId</th>\n",
              "      <th>rating</th>\n",
              "    </tr>\n",
              "  </thead>\n",
              "  <tbody>\n",
              "    <tr>\n",
              "      <th>3</th>\n",
              "      <td>4</td>\n",
              "      <td>204</td>\n",
              "    </tr>\n",
              "    <tr>\n",
              "      <th>7</th>\n",
              "      <td>8</td>\n",
              "      <td>116</td>\n",
              "    </tr>\n",
              "    <tr>\n",
              "      <th>14</th>\n",
              "      <td>15</td>\n",
              "      <td>1700</td>\n",
              "    </tr>\n",
              "    <tr>\n",
              "      <th>16</th>\n",
              "      <td>17</td>\n",
              "      <td>363</td>\n",
              "    </tr>\n",
              "    <tr>\n",
              "      <th>18</th>\n",
              "      <td>19</td>\n",
              "      <td>423</td>\n",
              "    </tr>\n",
              "  </tbody>\n",
              "</table>\n",
              "</div>"
            ],
            "text/plain": [
              "    userId  rating\n",
              "3        4     204\n",
              "7        8     116\n",
              "14      15    1700\n",
              "16      17     363\n",
              "18      19     423"
            ]
          },
          "metadata": {
            "tags": []
          },
          "execution_count": 16
        }
      ]
    },
    {
      "cell_type": "code",
      "metadata": {
        "id": "british-desperate"
      },
      "source": [
        "rating_max=ratings.groupby('userId').max().reset_index()\n",
        "rating_min=ratings.groupby('userId').min().reset_index()"
      ],
      "id": "british-desperate",
      "execution_count": null,
      "outputs": []
    },
    {
      "cell_type": "code",
      "metadata": {
        "id": "verbal-preview"
      },
      "source": [
        "rating_max_timestamp=rating_max[['userId','timestamp']]\n",
        "rating_min_timestamp=rating_min[['userId','timestamp']]"
      ],
      "id": "verbal-preview",
      "execution_count": null,
      "outputs": []
    },
    {
      "cell_type": "code",
      "metadata": {
        "id": "minor-piece",
        "outputId": "14d54885-359e-4565-88e4-05122842c13c"
      },
      "source": [
        "rating_max_timestamp.rename(columns={'timestamp': 'timestamp_max'}, inplace=True)\n",
        "rating_min_timestamp.rename(columns={'timestamp': 'timestamp_min'}, inplace=True)"
      ],
      "id": "minor-piece",
      "execution_count": null,
      "outputs": [
        {
          "output_type": "stream",
          "text": [
            "C:\\Users\\Admin1\\AppData\\Roaming\\Python\\Python38\\site-packages\\pandas\\core\\frame.py:4438: SettingWithCopyWarning: \n",
            "A value is trying to be set on a copy of a slice from a DataFrame\n",
            "\n",
            "See the caveats in the documentation: https://pandas.pydata.org/pandas-docs/stable/user_guide/indexing.html#returning-a-view-versus-a-copy\n",
            "  return super().rename(\n"
          ],
          "name": "stderr"
        }
      ]
    },
    {
      "cell_type": "code",
      "metadata": {
        "id": "mechanical-guyana",
        "outputId": "b8aa6324-75ae-44ab-d43b-50a90dfe3a00"
      },
      "source": [
        "rating_max_timestamp.head()"
      ],
      "id": "mechanical-guyana",
      "execution_count": null,
      "outputs": [
        {
          "output_type": "execute_result",
          "data": {
            "text/html": [
              "<div>\n",
              "<style scoped>\n",
              "    .dataframe tbody tr th:only-of-type {\n",
              "        vertical-align: middle;\n",
              "    }\n",
              "\n",
              "    .dataframe tbody tr th {\n",
              "        vertical-align: top;\n",
              "    }\n",
              "\n",
              "    .dataframe thead th {\n",
              "        text-align: right;\n",
              "    }\n",
              "</style>\n",
              "<table border=\"1\" class=\"dataframe\">\n",
              "  <thead>\n",
              "    <tr style=\"text-align: right;\">\n",
              "      <th></th>\n",
              "      <th>userId</th>\n",
              "      <th>timestamp_max</th>\n",
              "    </tr>\n",
              "  </thead>\n",
              "  <tbody>\n",
              "    <tr>\n",
              "      <th>0</th>\n",
              "      <td>1</td>\n",
              "      <td>1260759205</td>\n",
              "    </tr>\n",
              "    <tr>\n",
              "      <th>1</th>\n",
              "      <td>2</td>\n",
              "      <td>835356246</td>\n",
              "    </tr>\n",
              "    <tr>\n",
              "      <th>2</th>\n",
              "      <td>3</td>\n",
              "      <td>1298932787</td>\n",
              "    </tr>\n",
              "    <tr>\n",
              "      <th>3</th>\n",
              "      <td>4</td>\n",
              "      <td>949982274</td>\n",
              "    </tr>\n",
              "    <tr>\n",
              "      <th>4</th>\n",
              "      <td>5</td>\n",
              "      <td>1163375145</td>\n",
              "    </tr>\n",
              "  </tbody>\n",
              "</table>\n",
              "</div>"
            ],
            "text/plain": [
              "   userId  timestamp_max\n",
              "0       1     1260759205\n",
              "1       2      835356246\n",
              "2       3     1298932787\n",
              "3       4      949982274\n",
              "4       5     1163375145"
            ]
          },
          "metadata": {
            "tags": []
          },
          "execution_count": 21
        }
      ]
    },
    {
      "cell_type": "code",
      "metadata": {
        "id": "meaning-affiliate",
        "outputId": "9505df6c-85b9-4c23-a630-dcf43fc76a59"
      },
      "source": [
        "rating_min_timestamp.head()"
      ],
      "id": "meaning-affiliate",
      "execution_count": null,
      "outputs": [
        {
          "output_type": "execute_result",
          "data": {
            "text/html": [
              "<div>\n",
              "<style scoped>\n",
              "    .dataframe tbody tr th:only-of-type {\n",
              "        vertical-align: middle;\n",
              "    }\n",
              "\n",
              "    .dataframe tbody tr th {\n",
              "        vertical-align: top;\n",
              "    }\n",
              "\n",
              "    .dataframe thead th {\n",
              "        text-align: right;\n",
              "    }\n",
              "</style>\n",
              "<table border=\"1\" class=\"dataframe\">\n",
              "  <thead>\n",
              "    <tr style=\"text-align: right;\">\n",
              "      <th></th>\n",
              "      <th>userId</th>\n",
              "      <th>timestamp_min</th>\n",
              "    </tr>\n",
              "  </thead>\n",
              "  <tbody>\n",
              "    <tr>\n",
              "      <th>0</th>\n",
              "      <td>1</td>\n",
              "      <td>1260759108</td>\n",
              "    </tr>\n",
              "    <tr>\n",
              "      <th>1</th>\n",
              "      <td>2</td>\n",
              "      <td>835355395</td>\n",
              "    </tr>\n",
              "    <tr>\n",
              "      <th>2</th>\n",
              "      <td>3</td>\n",
              "      <td>1298861589</td>\n",
              "    </tr>\n",
              "    <tr>\n",
              "      <th>3</th>\n",
              "      <td>4</td>\n",
              "      <td>949778714</td>\n",
              "    </tr>\n",
              "    <tr>\n",
              "      <th>4</th>\n",
              "      <td>5</td>\n",
              "      <td>1163373044</td>\n",
              "    </tr>\n",
              "  </tbody>\n",
              "</table>\n",
              "</div>"
            ],
            "text/plain": [
              "   userId  timestamp_min\n",
              "0       1     1260759108\n",
              "1       2      835355395\n",
              "2       3     1298861589\n",
              "3       4      949778714\n",
              "4       5     1163373044"
            ]
          },
          "metadata": {
            "tags": []
          },
          "execution_count": 22
        }
      ]
    },
    {
      "cell_type": "code",
      "metadata": {
        "id": "legitimate-regard"
      },
      "source": [
        "avg_timestamp=count_rating_100.merge(rating_max_timestamp, how='inner').merge(rating_min_timestamp, how='inner')"
      ],
      "id": "legitimate-regard",
      "execution_count": null,
      "outputs": []
    },
    {
      "cell_type": "code",
      "metadata": {
        "id": "private-salon"
      },
      "source": [
        "def average(row):\n",
        "    mean_=(row['timestamp_max']-row['timestamp_min'])\n",
        "    return mean_"
      ],
      "id": "private-salon",
      "execution_count": null,
      "outputs": []
    },
    {
      "cell_type": "code",
      "metadata": {
        "id": "italian-problem",
        "outputId": "29b368d7-71bb-4b3e-bd2b-b8b97a3f70eb"
      },
      "source": [
        "avg_timestamp['avg']=avg_timestamp.apply(average, axis=1)\n",
        "len(count_rating_100)==len(avg_timestamp)"
      ],
      "id": "italian-problem",
      "execution_count": null,
      "outputs": [
        {
          "output_type": "execute_result",
          "data": {
            "text/plain": [
              "True"
            ]
          },
          "metadata": {
            "tags": []
          },
          "execution_count": 26
        }
      ]
    },
    {
      "cell_type": "code",
      "metadata": {
        "id": "progressive-warner",
        "outputId": "6bc3a271-b579-46d7-a28c-60567f843a8c"
      },
      "source": [
        "avg_timestamp.head(15)"
      ],
      "id": "progressive-warner",
      "execution_count": null,
      "outputs": [
        {
          "output_type": "execute_result",
          "data": {
            "text/html": [
              "<div>\n",
              "<style scoped>\n",
              "    .dataframe tbody tr th:only-of-type {\n",
              "        vertical-align: middle;\n",
              "    }\n",
              "\n",
              "    .dataframe tbody tr th {\n",
              "        vertical-align: top;\n",
              "    }\n",
              "\n",
              "    .dataframe thead th {\n",
              "        text-align: right;\n",
              "    }\n",
              "</style>\n",
              "<table border=\"1\" class=\"dataframe\">\n",
              "  <thead>\n",
              "    <tr style=\"text-align: right;\">\n",
              "      <th></th>\n",
              "      <th>userId</th>\n",
              "      <th>rating</th>\n",
              "      <th>timestamp_max</th>\n",
              "      <th>timestamp_min</th>\n",
              "      <th>avg</th>\n",
              "    </tr>\n",
              "  </thead>\n",
              "  <tbody>\n",
              "    <tr>\n",
              "      <th>0</th>\n",
              "      <td>4</td>\n",
              "      <td>204</td>\n",
              "      <td>949982274</td>\n",
              "      <td>949778714</td>\n",
              "      <td>203560</td>\n",
              "    </tr>\n",
              "    <tr>\n",
              "      <th>1</th>\n",
              "      <td>8</td>\n",
              "      <td>116</td>\n",
              "      <td>1154474527</td>\n",
              "      <td>1154389340</td>\n",
              "      <td>85187</td>\n",
              "    </tr>\n",
              "    <tr>\n",
              "      <th>2</th>\n",
              "      <td>15</td>\n",
              "      <td>1700</td>\n",
              "      <td>1469330735</td>\n",
              "      <td>997937239</td>\n",
              "      <td>471393496</td>\n",
              "    </tr>\n",
              "    <tr>\n",
              "      <th>3</th>\n",
              "      <td>17</td>\n",
              "      <td>363</td>\n",
              "      <td>1127476640</td>\n",
              "      <td>1127468587</td>\n",
              "      <td>8053</td>\n",
              "    </tr>\n",
              "    <tr>\n",
              "      <th>4</th>\n",
              "      <td>19</td>\n",
              "      <td>423</td>\n",
              "      <td>855195373</td>\n",
              "      <td>855190091</td>\n",
              "      <td>5282</td>\n",
              "    </tr>\n",
              "    <tr>\n",
              "      <th>5</th>\n",
              "      <td>21</td>\n",
              "      <td>162</td>\n",
              "      <td>854522908</td>\n",
              "      <td>853157476</td>\n",
              "      <td>1365432</td>\n",
              "    </tr>\n",
              "    <tr>\n",
              "      <th>6</th>\n",
              "      <td>22</td>\n",
              "      <td>220</td>\n",
              "      <td>1131753381</td>\n",
              "      <td>1131661890</td>\n",
              "      <td>91491</td>\n",
              "    </tr>\n",
              "    <tr>\n",
              "      <th>7</th>\n",
              "      <td>23</td>\n",
              "      <td>726</td>\n",
              "      <td>1166728253</td>\n",
              "      <td>1148386124</td>\n",
              "      <td>18342129</td>\n",
              "    </tr>\n",
              "    <tr>\n",
              "      <th>8</th>\n",
              "      <td>26</td>\n",
              "      <td>172</td>\n",
              "      <td>1371811577</td>\n",
              "      <td>1351544316</td>\n",
              "      <td>20267261</td>\n",
              "    </tr>\n",
              "    <tr>\n",
              "      <th>9</th>\n",
              "      <td>30</td>\n",
              "      <td>1011</td>\n",
              "      <td>1060795346</td>\n",
              "      <td>944943070</td>\n",
              "      <td>115852276</td>\n",
              "    </tr>\n",
              "    <tr>\n",
              "      <th>10</th>\n",
              "      <td>33</td>\n",
              "      <td>138</td>\n",
              "      <td>1037009003</td>\n",
              "      <td>1032676792</td>\n",
              "      <td>4332211</td>\n",
              "    </tr>\n",
              "    <tr>\n",
              "      <th>11</th>\n",
              "      <td>34</td>\n",
              "      <td>187</td>\n",
              "      <td>973749049</td>\n",
              "      <td>973746214</td>\n",
              "      <td>2835</td>\n",
              "    </tr>\n",
              "    <tr>\n",
              "      <th>12</th>\n",
              "      <td>36</td>\n",
              "      <td>104</td>\n",
              "      <td>853005800</td>\n",
              "      <td>847056510</td>\n",
              "      <td>5949290</td>\n",
              "    </tr>\n",
              "    <tr>\n",
              "      <th>13</th>\n",
              "      <td>38</td>\n",
              "      <td>111</td>\n",
              "      <td>1449693163</td>\n",
              "      <td>1389721498</td>\n",
              "      <td>59971665</td>\n",
              "    </tr>\n",
              "    <tr>\n",
              "      <th>14</th>\n",
              "      <td>41</td>\n",
              "      <td>199</td>\n",
              "      <td>1109817081</td>\n",
              "      <td>1093886586</td>\n",
              "      <td>15930495</td>\n",
              "    </tr>\n",
              "  </tbody>\n",
              "</table>\n",
              "</div>"
            ],
            "text/plain": [
              "    userId  rating  timestamp_max  timestamp_min        avg\n",
              "0        4     204      949982274      949778714     203560\n",
              "1        8     116     1154474527     1154389340      85187\n",
              "2       15    1700     1469330735      997937239  471393496\n",
              "3       17     363     1127476640     1127468587       8053\n",
              "4       19     423      855195373      855190091       5282\n",
              "5       21     162      854522908      853157476    1365432\n",
              "6       22     220     1131753381     1131661890      91491\n",
              "7       23     726     1166728253     1148386124   18342129\n",
              "8       26     172     1371811577     1351544316   20267261\n",
              "9       30    1011     1060795346      944943070  115852276\n",
              "10      33     138     1037009003     1032676792    4332211\n",
              "11      34     187      973749049      973746214       2835\n",
              "12      36     104      853005800      847056510    5949290\n",
              "13      38     111     1449693163     1389721498   59971665\n",
              "14      41     199     1109817081     1093886586   15930495"
            ]
          },
          "metadata": {
            "tags": []
          },
          "execution_count": 27
        }
      ]
    },
    {
      "cell_type": "markdown",
      "metadata": {
        "id": "human-contract"
      },
      "source": [
        "## Задание 4\n",
        "\n",
        "    Дана статистика услуг перевозок клиентов компании по типам (см. файл “Python_13_join.ipynb” в разделе Материалы для лекции «Продвинутый pandas» ---- Ноутбуки к лекции «Продвинутый pandas»).\n",
        "    Необходимо сформировать две таблицы:\n",
        "\n",
        "    таблицу с тремя типами выручки для каждого client_id без указания адреса клиента\n",
        "    аналогичную таблицу по типам выручки с указанием адреса клиента\n",
        "\n",
        "Обратите внимание, что в процессе объединения таблиц данные не должны теряться."
      ],
      "id": "human-contract"
    },
    {
      "cell_type": "code",
      "metadata": {
        "id": "monthly-count",
        "outputId": "2d625e00-a24b-4ee1-c58c-1465ae8e8c1c"
      },
      "source": [
        "rzd = pd.DataFrame(\n",
        "    {\n",
        "        'client_id': [111, 112, 113, 114, 115],\n",
        "        'rzd_revenue': [1093, 2810, 10283, 5774, 981]\n",
        "    }\n",
        ")\n",
        "rzd"
      ],
      "id": "monthly-count",
      "execution_count": null,
      "outputs": [
        {
          "output_type": "execute_result",
          "data": {
            "text/html": [
              "<div>\n",
              "<style scoped>\n",
              "    .dataframe tbody tr th:only-of-type {\n",
              "        vertical-align: middle;\n",
              "    }\n",
              "\n",
              "    .dataframe tbody tr th {\n",
              "        vertical-align: top;\n",
              "    }\n",
              "\n",
              "    .dataframe thead th {\n",
              "        text-align: right;\n",
              "    }\n",
              "</style>\n",
              "<table border=\"1\" class=\"dataframe\">\n",
              "  <thead>\n",
              "    <tr style=\"text-align: right;\">\n",
              "      <th></th>\n",
              "      <th>client_id</th>\n",
              "      <th>rzd_revenue</th>\n",
              "    </tr>\n",
              "  </thead>\n",
              "  <tbody>\n",
              "    <tr>\n",
              "      <th>0</th>\n",
              "      <td>111</td>\n",
              "      <td>1093</td>\n",
              "    </tr>\n",
              "    <tr>\n",
              "      <th>1</th>\n",
              "      <td>112</td>\n",
              "      <td>2810</td>\n",
              "    </tr>\n",
              "    <tr>\n",
              "      <th>2</th>\n",
              "      <td>113</td>\n",
              "      <td>10283</td>\n",
              "    </tr>\n",
              "    <tr>\n",
              "      <th>3</th>\n",
              "      <td>114</td>\n",
              "      <td>5774</td>\n",
              "    </tr>\n",
              "    <tr>\n",
              "      <th>4</th>\n",
              "      <td>115</td>\n",
              "      <td>981</td>\n",
              "    </tr>\n",
              "  </tbody>\n",
              "</table>\n",
              "</div>"
            ],
            "text/plain": [
              "   client_id  rzd_revenue\n",
              "0        111         1093\n",
              "1        112         2810\n",
              "2        113        10283\n",
              "3        114         5774\n",
              "4        115          981"
            ]
          },
          "metadata": {
            "tags": []
          },
          "execution_count": 28
        }
      ]
    },
    {
      "cell_type": "code",
      "metadata": {
        "id": "female-accuracy",
        "outputId": "8c2b72f3-db19-4532-f088-434732920818"
      },
      "source": [
        "auto = pd.DataFrame(\n",
        "    {\n",
        "        'client_id': [113, 114, 115, 116, 117],\n",
        "        'auto_revenue': [57483, 83, 912, 4834, 98]\n",
        "    }\n",
        ")\n",
        "auto"
      ],
      "id": "female-accuracy",
      "execution_count": null,
      "outputs": [
        {
          "output_type": "execute_result",
          "data": {
            "text/html": [
              "<div>\n",
              "<style scoped>\n",
              "    .dataframe tbody tr th:only-of-type {\n",
              "        vertical-align: middle;\n",
              "    }\n",
              "\n",
              "    .dataframe tbody tr th {\n",
              "        vertical-align: top;\n",
              "    }\n",
              "\n",
              "    .dataframe thead th {\n",
              "        text-align: right;\n",
              "    }\n",
              "</style>\n",
              "<table border=\"1\" class=\"dataframe\">\n",
              "  <thead>\n",
              "    <tr style=\"text-align: right;\">\n",
              "      <th></th>\n",
              "      <th>client_id</th>\n",
              "      <th>auto_revenue</th>\n",
              "    </tr>\n",
              "  </thead>\n",
              "  <tbody>\n",
              "    <tr>\n",
              "      <th>0</th>\n",
              "      <td>113</td>\n",
              "      <td>57483</td>\n",
              "    </tr>\n",
              "    <tr>\n",
              "      <th>1</th>\n",
              "      <td>114</td>\n",
              "      <td>83</td>\n",
              "    </tr>\n",
              "    <tr>\n",
              "      <th>2</th>\n",
              "      <td>115</td>\n",
              "      <td>912</td>\n",
              "    </tr>\n",
              "    <tr>\n",
              "      <th>3</th>\n",
              "      <td>116</td>\n",
              "      <td>4834</td>\n",
              "    </tr>\n",
              "    <tr>\n",
              "      <th>4</th>\n",
              "      <td>117</td>\n",
              "      <td>98</td>\n",
              "    </tr>\n",
              "  </tbody>\n",
              "</table>\n",
              "</div>"
            ],
            "text/plain": [
              "   client_id  auto_revenue\n",
              "0        113         57483\n",
              "1        114            83\n",
              "2        115           912\n",
              "3        116          4834\n",
              "4        117            98"
            ]
          },
          "metadata": {
            "tags": []
          },
          "execution_count": 29
        }
      ]
    },
    {
      "cell_type": "code",
      "metadata": {
        "id": "thrown-saudi",
        "outputId": "29c150f6-6057-480e-9716-6b15a5801abc"
      },
      "source": [
        "air = pd.DataFrame(\n",
        "    {\n",
        "        'client_id': [115, 116, 117, 118],\n",
        "        'air_revenue': [81, 4, 13, 173]\n",
        "    }\n",
        ")\n",
        "air"
      ],
      "id": "thrown-saudi",
      "execution_count": null,
      "outputs": [
        {
          "output_type": "execute_result",
          "data": {
            "text/html": [
              "<div>\n",
              "<style scoped>\n",
              "    .dataframe tbody tr th:only-of-type {\n",
              "        vertical-align: middle;\n",
              "    }\n",
              "\n",
              "    .dataframe tbody tr th {\n",
              "        vertical-align: top;\n",
              "    }\n",
              "\n",
              "    .dataframe thead th {\n",
              "        text-align: right;\n",
              "    }\n",
              "</style>\n",
              "<table border=\"1\" class=\"dataframe\">\n",
              "  <thead>\n",
              "    <tr style=\"text-align: right;\">\n",
              "      <th></th>\n",
              "      <th>client_id</th>\n",
              "      <th>air_revenue</th>\n",
              "    </tr>\n",
              "  </thead>\n",
              "  <tbody>\n",
              "    <tr>\n",
              "      <th>0</th>\n",
              "      <td>115</td>\n",
              "      <td>81</td>\n",
              "    </tr>\n",
              "    <tr>\n",
              "      <th>1</th>\n",
              "      <td>116</td>\n",
              "      <td>4</td>\n",
              "    </tr>\n",
              "    <tr>\n",
              "      <th>2</th>\n",
              "      <td>117</td>\n",
              "      <td>13</td>\n",
              "    </tr>\n",
              "    <tr>\n",
              "      <th>3</th>\n",
              "      <td>118</td>\n",
              "      <td>173</td>\n",
              "    </tr>\n",
              "  </tbody>\n",
              "</table>\n",
              "</div>"
            ],
            "text/plain": [
              "   client_id  air_revenue\n",
              "0        115           81\n",
              "1        116            4\n",
              "2        117           13\n",
              "3        118          173"
            ]
          },
          "metadata": {
            "tags": []
          },
          "execution_count": 30
        }
      ]
    },
    {
      "cell_type": "code",
      "metadata": {
        "id": "quarterly-divide",
        "outputId": "8623a5df-b6e8-4325-8479-4a7115ce9824"
      },
      "source": [
        "client_base = pd.DataFrame(\n",
        "    {\n",
        "        'client_id': [111, 112, 113, 114, 115, 116, 117, 118],\n",
        "        'address': ['Комсомольская 4', 'Энтузиастов 8а', 'Левобережная 1а', 'Мира 14', 'ЗЖБИиДК 1', \n",
        "                    'Строителей 18', 'Панфиловская 33', 'Мастеркова 4']\n",
        "    }\n",
        ")\n",
        "client_base"
      ],
      "id": "quarterly-divide",
      "execution_count": null,
      "outputs": [
        {
          "output_type": "execute_result",
          "data": {
            "text/html": [
              "<div>\n",
              "<style scoped>\n",
              "    .dataframe tbody tr th:only-of-type {\n",
              "        vertical-align: middle;\n",
              "    }\n",
              "\n",
              "    .dataframe tbody tr th {\n",
              "        vertical-align: top;\n",
              "    }\n",
              "\n",
              "    .dataframe thead th {\n",
              "        text-align: right;\n",
              "    }\n",
              "</style>\n",
              "<table border=\"1\" class=\"dataframe\">\n",
              "  <thead>\n",
              "    <tr style=\"text-align: right;\">\n",
              "      <th></th>\n",
              "      <th>client_id</th>\n",
              "      <th>address</th>\n",
              "    </tr>\n",
              "  </thead>\n",
              "  <tbody>\n",
              "    <tr>\n",
              "      <th>0</th>\n",
              "      <td>111</td>\n",
              "      <td>Комсомольская 4</td>\n",
              "    </tr>\n",
              "    <tr>\n",
              "      <th>1</th>\n",
              "      <td>112</td>\n",
              "      <td>Энтузиастов 8а</td>\n",
              "    </tr>\n",
              "    <tr>\n",
              "      <th>2</th>\n",
              "      <td>113</td>\n",
              "      <td>Левобережная 1а</td>\n",
              "    </tr>\n",
              "    <tr>\n",
              "      <th>3</th>\n",
              "      <td>114</td>\n",
              "      <td>Мира 14</td>\n",
              "    </tr>\n",
              "    <tr>\n",
              "      <th>4</th>\n",
              "      <td>115</td>\n",
              "      <td>ЗЖБИиДК 1</td>\n",
              "    </tr>\n",
              "    <tr>\n",
              "      <th>5</th>\n",
              "      <td>116</td>\n",
              "      <td>Строителей 18</td>\n",
              "    </tr>\n",
              "    <tr>\n",
              "      <th>6</th>\n",
              "      <td>117</td>\n",
              "      <td>Панфиловская 33</td>\n",
              "    </tr>\n",
              "    <tr>\n",
              "      <th>7</th>\n",
              "      <td>118</td>\n",
              "      <td>Мастеркова 4</td>\n",
              "    </tr>\n",
              "  </tbody>\n",
              "</table>\n",
              "</div>"
            ],
            "text/plain": [
              "   client_id          address\n",
              "0        111  Комсомольская 4\n",
              "1        112   Энтузиастов 8а\n",
              "2        113  Левобережная 1а\n",
              "3        114          Мира 14\n",
              "4        115        ЗЖБИиДК 1\n",
              "5        116    Строителей 18\n",
              "6        117  Панфиловская 33\n",
              "7        118     Мастеркова 4"
            ]
          },
          "metadata": {
            "tags": []
          },
          "execution_count": 31
        }
      ]
    },
    {
      "cell_type": "code",
      "metadata": {
        "id": "composed-printing"
      },
      "source": [
        "table=rzd.merge(auto, how='outer', on='client_id')"
      ],
      "id": "composed-printing",
      "execution_count": null,
      "outputs": []
    },
    {
      "cell_type": "code",
      "metadata": {
        "id": "retained-festival"
      },
      "source": [
        "table=table.merge(air, how='outer', on='client_id')"
      ],
      "id": "retained-festival",
      "execution_count": null,
      "outputs": []
    },
    {
      "cell_type": "code",
      "metadata": {
        "id": "anonymous-breath"
      },
      "source": [
        "table.loc[table.rzd_revenue.isnull(), 'rzd_revenue',]=0\n",
        "table.loc[table.auto_revenue.isnull(), 'auto_revenue',]=0\n",
        "table.loc[table.air_revenue.isnull(), 'air_revenue',]=0"
      ],
      "id": "anonymous-breath",
      "execution_count": null,
      "outputs": []
    },
    {
      "cell_type": "code",
      "metadata": {
        "id": "major-alert"
      },
      "source": [
        "full_table=table.merge(client_base, how='outer', on='client_id')"
      ],
      "id": "major-alert",
      "execution_count": null,
      "outputs": []
    },
    {
      "cell_type": "code",
      "metadata": {
        "id": "earned-valve",
        "outputId": "a0d1a35d-680d-4429-8201-54aa4434f459"
      },
      "source": [
        "table"
      ],
      "id": "earned-valve",
      "execution_count": null,
      "outputs": [
        {
          "output_type": "execute_result",
          "data": {
            "text/html": [
              "<div>\n",
              "<style scoped>\n",
              "    .dataframe tbody tr th:only-of-type {\n",
              "        vertical-align: middle;\n",
              "    }\n",
              "\n",
              "    .dataframe tbody tr th {\n",
              "        vertical-align: top;\n",
              "    }\n",
              "\n",
              "    .dataframe thead th {\n",
              "        text-align: right;\n",
              "    }\n",
              "</style>\n",
              "<table border=\"1\" class=\"dataframe\">\n",
              "  <thead>\n",
              "    <tr style=\"text-align: right;\">\n",
              "      <th></th>\n",
              "      <th>client_id</th>\n",
              "      <th>rzd_revenue</th>\n",
              "      <th>auto_revenue</th>\n",
              "      <th>air_revenue</th>\n",
              "    </tr>\n",
              "  </thead>\n",
              "  <tbody>\n",
              "    <tr>\n",
              "      <th>0</th>\n",
              "      <td>111</td>\n",
              "      <td>1093.0</td>\n",
              "      <td>0.0</td>\n",
              "      <td>0.0</td>\n",
              "    </tr>\n",
              "    <tr>\n",
              "      <th>1</th>\n",
              "      <td>112</td>\n",
              "      <td>2810.0</td>\n",
              "      <td>0.0</td>\n",
              "      <td>0.0</td>\n",
              "    </tr>\n",
              "    <tr>\n",
              "      <th>2</th>\n",
              "      <td>113</td>\n",
              "      <td>10283.0</td>\n",
              "      <td>57483.0</td>\n",
              "      <td>0.0</td>\n",
              "    </tr>\n",
              "    <tr>\n",
              "      <th>3</th>\n",
              "      <td>114</td>\n",
              "      <td>5774.0</td>\n",
              "      <td>83.0</td>\n",
              "      <td>0.0</td>\n",
              "    </tr>\n",
              "    <tr>\n",
              "      <th>4</th>\n",
              "      <td>115</td>\n",
              "      <td>981.0</td>\n",
              "      <td>912.0</td>\n",
              "      <td>81.0</td>\n",
              "    </tr>\n",
              "    <tr>\n",
              "      <th>5</th>\n",
              "      <td>116</td>\n",
              "      <td>0.0</td>\n",
              "      <td>4834.0</td>\n",
              "      <td>4.0</td>\n",
              "    </tr>\n",
              "    <tr>\n",
              "      <th>6</th>\n",
              "      <td>117</td>\n",
              "      <td>0.0</td>\n",
              "      <td>98.0</td>\n",
              "      <td>13.0</td>\n",
              "    </tr>\n",
              "    <tr>\n",
              "      <th>7</th>\n",
              "      <td>118</td>\n",
              "      <td>0.0</td>\n",
              "      <td>0.0</td>\n",
              "      <td>173.0</td>\n",
              "    </tr>\n",
              "  </tbody>\n",
              "</table>\n",
              "</div>"
            ],
            "text/plain": [
              "   client_id  rzd_revenue  auto_revenue  air_revenue\n",
              "0        111       1093.0           0.0          0.0\n",
              "1        112       2810.0           0.0          0.0\n",
              "2        113      10283.0       57483.0          0.0\n",
              "3        114       5774.0          83.0          0.0\n",
              "4        115        981.0         912.0         81.0\n",
              "5        116          0.0        4834.0          4.0\n",
              "6        117          0.0          98.0         13.0\n",
              "7        118          0.0           0.0        173.0"
            ]
          },
          "metadata": {
            "tags": []
          },
          "execution_count": 36
        }
      ]
    },
    {
      "cell_type": "code",
      "metadata": {
        "id": "other-limitation",
        "outputId": "b33a94b4-055c-43d4-fa15-e9c4661ffacc"
      },
      "source": [
        "full_table"
      ],
      "id": "other-limitation",
      "execution_count": null,
      "outputs": [
        {
          "output_type": "execute_result",
          "data": {
            "text/html": [
              "<div>\n",
              "<style scoped>\n",
              "    .dataframe tbody tr th:only-of-type {\n",
              "        vertical-align: middle;\n",
              "    }\n",
              "\n",
              "    .dataframe tbody tr th {\n",
              "        vertical-align: top;\n",
              "    }\n",
              "\n",
              "    .dataframe thead th {\n",
              "        text-align: right;\n",
              "    }\n",
              "</style>\n",
              "<table border=\"1\" class=\"dataframe\">\n",
              "  <thead>\n",
              "    <tr style=\"text-align: right;\">\n",
              "      <th></th>\n",
              "      <th>client_id</th>\n",
              "      <th>rzd_revenue</th>\n",
              "      <th>auto_revenue</th>\n",
              "      <th>air_revenue</th>\n",
              "      <th>address</th>\n",
              "    </tr>\n",
              "  </thead>\n",
              "  <tbody>\n",
              "    <tr>\n",
              "      <th>0</th>\n",
              "      <td>111</td>\n",
              "      <td>1093.0</td>\n",
              "      <td>0.0</td>\n",
              "      <td>0.0</td>\n",
              "      <td>Комсомольская 4</td>\n",
              "    </tr>\n",
              "    <tr>\n",
              "      <th>1</th>\n",
              "      <td>112</td>\n",
              "      <td>2810.0</td>\n",
              "      <td>0.0</td>\n",
              "      <td>0.0</td>\n",
              "      <td>Энтузиастов 8а</td>\n",
              "    </tr>\n",
              "    <tr>\n",
              "      <th>2</th>\n",
              "      <td>113</td>\n",
              "      <td>10283.0</td>\n",
              "      <td>57483.0</td>\n",
              "      <td>0.0</td>\n",
              "      <td>Левобережная 1а</td>\n",
              "    </tr>\n",
              "    <tr>\n",
              "      <th>3</th>\n",
              "      <td>114</td>\n",
              "      <td>5774.0</td>\n",
              "      <td>83.0</td>\n",
              "      <td>0.0</td>\n",
              "      <td>Мира 14</td>\n",
              "    </tr>\n",
              "    <tr>\n",
              "      <th>4</th>\n",
              "      <td>115</td>\n",
              "      <td>981.0</td>\n",
              "      <td>912.0</td>\n",
              "      <td>81.0</td>\n",
              "      <td>ЗЖБИиДК 1</td>\n",
              "    </tr>\n",
              "    <tr>\n",
              "      <th>5</th>\n",
              "      <td>116</td>\n",
              "      <td>0.0</td>\n",
              "      <td>4834.0</td>\n",
              "      <td>4.0</td>\n",
              "      <td>Строителей 18</td>\n",
              "    </tr>\n",
              "    <tr>\n",
              "      <th>6</th>\n",
              "      <td>117</td>\n",
              "      <td>0.0</td>\n",
              "      <td>98.0</td>\n",
              "      <td>13.0</td>\n",
              "      <td>Панфиловская 33</td>\n",
              "    </tr>\n",
              "    <tr>\n",
              "      <th>7</th>\n",
              "      <td>118</td>\n",
              "      <td>0.0</td>\n",
              "      <td>0.0</td>\n",
              "      <td>173.0</td>\n",
              "      <td>Мастеркова 4</td>\n",
              "    </tr>\n",
              "  </tbody>\n",
              "</table>\n",
              "</div>"
            ],
            "text/plain": [
              "   client_id  rzd_revenue  auto_revenue  air_revenue          address\n",
              "0        111       1093.0           0.0          0.0  Комсомольская 4\n",
              "1        112       2810.0           0.0          0.0   Энтузиастов 8а\n",
              "2        113      10283.0       57483.0          0.0  Левобережная 1а\n",
              "3        114       5774.0          83.0          0.0          Мира 14\n",
              "4        115        981.0         912.0         81.0        ЗЖБИиДК 1\n",
              "5        116          0.0        4834.0          4.0    Строителей 18\n",
              "6        117          0.0          98.0         13.0  Панфиловская 33\n",
              "7        118          0.0           0.0        173.0     Мастеркова 4"
            ]
          },
          "metadata": {
            "tags": []
          },
          "execution_count": 37
        }
      ]
    },
    {
      "cell_type": "code",
      "metadata": {
        "id": "proud-blackberry"
      },
      "source": [
        ""
      ],
      "id": "proud-blackberry",
      "execution_count": null,
      "outputs": []
    }
  ]
}